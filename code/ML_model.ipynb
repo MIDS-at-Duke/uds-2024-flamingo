{
 "cells": [
  {
   "cell_type": "code",
   "execution_count": 1,
   "metadata": {},
   "outputs": [],
   "source": [
    "import pandas as pd\n",
    "\n",
    "pd.set_option(\"mode.copy_on_write\", True)\n",
    "\n",
    "df_e_price = pd.read_csv(\"../src/cleaned_e_price.csv\")\n",
    "df_emission = pd.read_csv(\"../src/cleaned_emission_annual.csv\")\n",
    "df_fuel_ratio = pd.read_csv(\"../src/cleaned_fuel_ratio.csv\")"
   ]
  },
  {
   "cell_type": "code",
   "execution_count": 2,
   "metadata": {},
   "outputs": [],
   "source": [
    "merged = pd.merge(df_e_price, df_emission, on=[\"Year\", \"State\"], how=\"inner\")\n",
    "merged = pd.merge(merged, df_fuel_ratio, on=[\"Year\", \"State\"], how=\"inner\")"
   ]
  },
  {
   "cell_type": "code",
   "execution_count": 3,
   "metadata": {},
   "outputs": [
    {
     "data": {
      "text/html": [
       "<div>\n",
       "<style scoped>\n",
       "    .dataframe tbody tr th:only-of-type {\n",
       "        vertical-align: middle;\n",
       "    }\n",
       "\n",
       "    .dataframe tbody tr th {\n",
       "        vertical-align: top;\n",
       "    }\n",
       "\n",
       "    .dataframe thead th {\n",
       "        text-align: right;\n",
       "    }\n",
       "</style>\n",
       "<table border=\"1\" class=\"dataframe\">\n",
       "  <thead>\n",
       "    <tr style=\"text-align: right;\">\n",
       "      <th></th>\n",
       "      <th>State</th>\n",
       "      <th>Year</th>\n",
       "      <th>e_price</th>\n",
       "      <th>CO2_annual</th>\n",
       "      <th>Fuels_ratio</th>\n",
       "    </tr>\n",
       "  </thead>\n",
       "  <tbody>\n",
       "    <tr>\n",
       "      <th>0</th>\n",
       "      <td>CT</td>\n",
       "      <td>2001</td>\n",
       "      <td>9.62</td>\n",
       "      <td>45649924</td>\n",
       "      <td>0.0</td>\n",
       "    </tr>\n",
       "    <tr>\n",
       "      <th>1</th>\n",
       "      <td>ME</td>\n",
       "      <td>2001</td>\n",
       "      <td>10.55</td>\n",
       "      <td>35440016</td>\n",
       "      <td>0.0</td>\n",
       "    </tr>\n",
       "    <tr>\n",
       "      <th>2</th>\n",
       "      <td>MA</td>\n",
       "      <td>2001</td>\n",
       "      <td>11.55</td>\n",
       "      <td>99152464</td>\n",
       "      <td>0.0</td>\n",
       "    </tr>\n",
       "    <tr>\n",
       "      <th>3</th>\n",
       "      <td>NH</td>\n",
       "      <td>2001</td>\n",
       "      <td>10.95</td>\n",
       "      <td>18182220</td>\n",
       "      <td>0.0</td>\n",
       "    </tr>\n",
       "    <tr>\n",
       "      <th>4</th>\n",
       "      <td>RI</td>\n",
       "      <td>2001</td>\n",
       "      <td>11.45</td>\n",
       "      <td>13784508</td>\n",
       "      <td>0.0</td>\n",
       "    </tr>\n",
       "  </tbody>\n",
       "</table>\n",
       "</div>"
      ],
      "text/plain": [
       "  State  Year  e_price  CO2_annual  Fuels_ratio\n",
       "0    CT  2001     9.62    45649924          0.0\n",
       "1    ME  2001    10.55    35440016          0.0\n",
       "2    MA  2001    11.55    99152464          0.0\n",
       "3    NH  2001    10.95    18182220          0.0\n",
       "4    RI  2001    11.45    13784508          0.0"
      ]
     },
     "execution_count": 3,
     "metadata": {},
     "output_type": "execute_result"
    }
   ],
   "source": [
    "merged.head()"
   ]
  },
  {
   "cell_type": "code",
   "execution_count": 4,
   "metadata": {},
   "outputs": [
    {
     "name": "stdout",
     "output_type": "stream",
     "text": [
      "<class 'pandas.core.frame.DataFrame'>\n",
      "Int64Index: 1071 entries, 0 to 1070\n",
      "Data columns (total 5 columns):\n",
      " #   Column       Non-Null Count  Dtype  \n",
      "---  ------       --------------  -----  \n",
      " 0   State        1071 non-null   object \n",
      " 1   Year         1071 non-null   int64  \n",
      " 2   e_price      1071 non-null   float64\n",
      " 3   CO2_annual   1071 non-null   int64  \n",
      " 4   Fuels_ratio  1071 non-null   float64\n",
      "dtypes: float64(2), int64(2), object(1)\n",
      "memory usage: 50.2+ KB\n"
     ]
    }
   ],
   "source": [
    "merged.info()"
   ]
  },
  {
   "cell_type": "code",
   "execution_count": 5,
   "metadata": {},
   "outputs": [
    {
     "data": {
      "text/html": [
       "<div>\n",
       "<style scoped>\n",
       "    .dataframe tbody tr th:only-of-type {\n",
       "        vertical-align: middle;\n",
       "    }\n",
       "\n",
       "    .dataframe tbody tr th {\n",
       "        vertical-align: top;\n",
       "    }\n",
       "\n",
       "    .dataframe thead th {\n",
       "        text-align: right;\n",
       "    }\n",
       "</style>\n",
       "<table border=\"1\" class=\"dataframe\">\n",
       "  <thead>\n",
       "    <tr style=\"text-align: right;\">\n",
       "      <th></th>\n",
       "      <th>Year</th>\n",
       "      <th>e_price</th>\n",
       "      <th>CO2_annual</th>\n",
       "      <th>Fuels_ratio</th>\n",
       "    </tr>\n",
       "  </thead>\n",
       "  <tbody>\n",
       "    <tr>\n",
       "      <th>count</th>\n",
       "      <td>1071.00000</td>\n",
       "      <td>1071.000000</td>\n",
       "      <td>1.071000e+03</td>\n",
       "      <td>1071.000000</td>\n",
       "    </tr>\n",
       "    <tr>\n",
       "      <th>mean</th>\n",
       "      <td>2011.00000</td>\n",
       "      <td>9.811223</td>\n",
       "      <td>1.714041e+08</td>\n",
       "      <td>0.374959</td>\n",
       "    </tr>\n",
       "    <tr>\n",
       "      <th>std</th>\n",
       "      <td>6.05813</td>\n",
       "      <td>3.781943</td>\n",
       "      <td>1.713947e+08</td>\n",
       "      <td>0.407917</td>\n",
       "    </tr>\n",
       "    <tr>\n",
       "      <th>min</th>\n",
       "      <td>2001.00000</td>\n",
       "      <td>4.240000</td>\n",
       "      <td>2.633200e+04</td>\n",
       "      <td>0.000000</td>\n",
       "    </tr>\n",
       "    <tr>\n",
       "      <th>25%</th>\n",
       "      <td>2006.00000</td>\n",
       "      <td>7.465000</td>\n",
       "      <td>4.884882e+07</td>\n",
       "      <td>0.000000</td>\n",
       "    </tr>\n",
       "    <tr>\n",
       "      <th>50%</th>\n",
       "      <td>2011.00000</td>\n",
       "      <td>9.020000</td>\n",
       "      <td>1.318715e+08</td>\n",
       "      <td>0.109052</td>\n",
       "    </tr>\n",
       "    <tr>\n",
       "      <th>75%</th>\n",
       "      <td>2016.00000</td>\n",
       "      <td>10.770000</td>\n",
       "      <td>2.303515e+08</td>\n",
       "      <td>0.858901</td>\n",
       "    </tr>\n",
       "    <tr>\n",
       "      <th>max</th>\n",
       "      <td>2021.00000</td>\n",
       "      <td>34.040000</td>\n",
       "      <td>1.069856e+09</td>\n",
       "      <td>0.998595</td>\n",
       "    </tr>\n",
       "  </tbody>\n",
       "</table>\n",
       "</div>"
      ],
      "text/plain": [
       "             Year      e_price    CO2_annual  Fuels_ratio\n",
       "count  1071.00000  1071.000000  1.071000e+03  1071.000000\n",
       "mean   2011.00000     9.811223  1.714041e+08     0.374959\n",
       "std       6.05813     3.781943  1.713947e+08     0.407917\n",
       "min    2001.00000     4.240000  2.633200e+04     0.000000\n",
       "25%    2006.00000     7.465000  4.884882e+07     0.000000\n",
       "50%    2011.00000     9.020000  1.318715e+08     0.109052\n",
       "75%    2016.00000    10.770000  2.303515e+08     0.858901\n",
       "max    2021.00000    34.040000  1.069856e+09     0.998595"
      ]
     },
     "execution_count": 5,
     "metadata": {},
     "output_type": "execute_result"
    }
   ],
   "source": [
    "merged.describe()"
   ]
  },
  {
   "cell_type": "code",
   "execution_count": 6,
   "metadata": {},
   "outputs": [
    {
     "data": {
      "text/plain": [
       "(array([2001, 2002, 2003, 2004, 2005, 2006, 2007, 2008, 2009, 2010, 2011,\n",
       "        2012, 2013, 2014, 2015, 2016, 2017, 2018, 2019, 2020, 2021]),\n",
       " array(['CT', 'ME', 'MA', 'NH', 'RI', 'VT', 'NJ', 'NY', 'PA', 'IL', 'IN',\n",
       "        'MI', 'OH', 'WI', 'IA', 'KS', 'MN', 'MO', 'NE', 'ND', 'SD', 'DE',\n",
       "        'DC', 'FL', 'GA', 'MD', 'NC', 'SC', 'VA', 'WV', 'AL', 'KY', 'MS',\n",
       "        'TN', 'AR', 'LA', 'OK', 'TX', 'AZ', 'CO', 'ID', 'MT', 'NV', 'NM',\n",
       "        'UT', 'WY', 'CA', 'OR', 'WA', 'AK', 'HI'], dtype=object))"
      ]
     },
     "execution_count": 6,
     "metadata": {},
     "output_type": "execute_result"
    }
   ],
   "source": [
    "merged[\"Year\"].unique(), merged[\"State\"].unique()"
   ]
  },
  {
   "cell_type": "code",
   "execution_count": 7,
   "metadata": {},
   "outputs": [],
   "source": [
    "merged.to_csv(\"../src/merged_data.csv\", index=False)"
   ]
  }
 ],
 "metadata": {
  "kernelspec": {
   "display_name": "base",
   "language": "python",
   "name": "python3"
  },
  "language_info": {
   "codemirror_mode": {
    "name": "ipython",
    "version": 3
   },
   "file_extension": ".py",
   "mimetype": "text/x-python",
   "name": "python",
   "nbconvert_exporter": "python",
   "pygments_lexer": "ipython3",
   "version": "3.11.5"
  }
 },
 "nbformat": 4,
 "nbformat_minor": 2
}
